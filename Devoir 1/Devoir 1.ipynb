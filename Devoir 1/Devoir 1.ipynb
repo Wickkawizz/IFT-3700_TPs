{
 "cells": [
  {
   "cell_type": "raw",
   "source": [
    "Ceci sont les importations que nous aurons besoin pour le projet. Nous utiliserons SKlearn tel que indiqué par le professeur."
   ],
   "metadata": {
    "collapsed": false,
    "pycharm": {
     "name": "#%% raw\n"
    }
   }
  },
  {
   "cell_type": "code",
   "execution_count": 25,
   "outputs": [],
   "source": [
    "import matplotlib.pyplot as plt\n",
    "from sklearn.metrics import accuracy_score\n",
    "#classification\n",
    "from sklearn.neighbors import KNeighborsClassifier #k-plus proches voisins\n",
    "from sklearn_extra.cluster import KMedoids\n",
    "import numpy as np\n",
    "import pandas as pd\n",
    "\n",
    "#Partitionnement\n",
    "from sklearn.cluster import AgglomerativeClustering #Regroupement hiérarchique (Partitionnement binaire)\n",
    "from pyclustering.cluster.kmedoids import kmedoids\n",
    "\n",
    "#réduction de dimensionnalité\n",
    "from sklearn.decomposition import KernelPCA #ce n'est pas PCoA mais on peut l'utiliser pour que le résultat soit le même\n",
    "from sklearn.manifold import Isomap"
   ],
   "metadata": {
    "collapsed": false,
    "pycharm": {
     "name": "#%%\n"
    }
   }
  },
  {
   "cell_type": "markdown",
   "source": [
    "Pour commencer le projet, nous allons créer une baseline pour MNIST en faisant la distance euclidienne pour tous les algorithmes que le projet nous indique. Donc nous le ferons pour:\n",
    "● k-medoïde\n",
    "● Partition binaire (Regroupement hiérarchique)\n",
    "● PCoA (c'est un cas particulier de MDS)\n",
    "● Isomap\n",
    "● KNN (k-plus proches voisins)\n",
    "\n",
    "Nous allons aussi importer MNIST et ADULT"
   ],
   "metadata": {
    "collapsed": false,
    "pycharm": {
     "name": "#%% md\n"
    }
   }
  },
  {
   "cell_type": "code",
   "execution_count": 26,
   "outputs": [
    {
     "name": "stdout",
     "output_type": "stream",
     "text": [
      "X_train: (60000, 784)\n",
      "Y_train: (60000,)\n",
      "X_test:  (10000, 784)\n",
      "Y_test:  (10000,)\n"
     ]
    }
   ],
   "source": [
    "from sklearn.preprocessing import StandardScaler, normalize\n",
    "# https://notebook.community/francesco-mannella/neunet-basics/course/mnist\n",
    "# import the mnist class\n",
    "from mnist import MNIST\n",
    "\n",
    "# init with the 'data' dir\n",
    "mndata = MNIST('.\\data')\n",
    "\n",
    "# Load data\n",
    "(train_X, train_y) = mndata.load_training()\n",
    "data_train = pd.DataFrame(train_X)\n",
    "#train_X = np.asarray(train_X)\n",
    "#train_y = np.asarray(train_y)\n",
    "(test_X, test_y) = mndata.load_testing()\n",
    "data_test = pd.DataFrame(test_X)\n",
    "#test_X = np.asarray(test_X)\n",
    "#test_y = np.asarray(test_y)\n",
    "\n",
    "print('X_train: ' + str(np.shape(train_X)))\n",
    "print('Y_train: ' + str(np.shape(train_y)))\n",
    "print('X_test:  '  + str(np.shape(test_X)))\n",
    "print('Y_test:  '  + str(np.shape(test_y)))\n",
    "\n",
    "# Standardizing the data (preprocessing)\n",
    "scaler = StandardScaler()\n",
    "X_std_train = scaler.fit_transform(train_X)\n",
    "\n",
    "# Normalizing the data so that the data approximately\n",
    "# follows a Gaussian distribution\n",
    "X_normalized_train = normalize(X_std_train)\n",
    "\n",
    "# Converting the numpy array into a pandas DataFrame\n",
    "X_normalized_train = pd.DataFrame(X_normalized_train)\n",
    "\n",
    "\n",
    "X_std_test = scaler.fit_transform(test_X)\n",
    "\n",
    "# Normalizing the data so that the data approximately\n",
    "# follows a Gaussian distribution\n",
    "X_normalized_test = normalize(X_std_test)\n",
    "\n",
    "# Converting the numpy array into a pandas DataFrame\n",
    "X_normalized_test = pd.DataFrame(X_normalized_test)\n",
    "\n",
    "# The number of pixels per side of all images\n",
    "img_side = 28\n",
    "\n",
    "# Each input is a raw vector.\n",
    "# The number of units of the network\n",
    "# corresponds to the number of input elements\n",
    "n_mnist_pixels = img_side*img_side"
   ],
   "metadata": {
    "collapsed": false,
    "pycharm": {
     "name": "#%%\n"
    }
   }
  },
  {
   "cell_type": "markdown",
   "source": [
    "Ici on vérifie que le dataset à bien téléchargé."
   ],
   "metadata": {
    "collapsed": false,
    "pycharm": {
     "name": "#%% md\n"
    }
   }
  },
  {
   "cell_type": "code",
   "execution_count": 27,
   "outputs": [
    {
     "data": {
      "text/plain": "<Figure size 1000x100 with 10 Axes>",
      "image/png": "[encoded data removed]"
     },
     "metadata": {},
     "output_type": "display_data"
    }
   ],
   "source": [
    "%matplotlib inline\n",
    "from pylab import *\n",
    "\n",
    "# Define the number of samples to take\n",
    "num_samples = 10\n",
    "\n",
    "# create a figure where we will store all samples\n",
    "figure(figsize=(10,1))\n",
    "\n",
    "# Iterate over samples indices\n",
    "for sample in range(num_samples) :\n",
    "\n",
    "    # The image corresponding to the 'sample' index\n",
    "    img = train_X[sample]\n",
    "\n",
    "    # The label of the image\n",
    "    label = train_y[sample]\n",
    "\n",
    "    # The image is stored as a rolled vector,\n",
    "    # we have to roll it back in a matrix\n",
    "    aimg = array(img).reshape(img_side, img_side)\n",
    "\n",
    "    # Open a subplot for each sample\n",
    "    subplot(1, num_samples, sample+1)\n",
    "\n",
    "    # The corresponding digit is the title of the plot\n",
    "    title(label)\n",
    "\n",
    "    # We use imshow to plot the matrix of pixels\n",
    "    imshow(aimg, interpolation = 'none',\n",
    "        aspect = 'auto', cmap = cm.binary)\n",
    "    axis(\"off\")\n",
    "\n",
    "show()"
   ],
   "metadata": {
    "collapsed": false,
    "pycharm": {
     "name": "#%%\n"
    }
   }
  },
  {
   "cell_type": "markdown",
   "source": [
    "Ici nous ferons l'algorithme de k-medoïde avec la distance euclidienne pour MNIST"
   ],
   "metadata": {
    "collapsed": false,
    "pycharm": {
     "name": "#%% md\n"
    }
   }
  },
  {
   "cell_type": "code",
   "execution_count": null,
   "outputs": [],
   "source": [
    "# # https://medium.com/@ali.soleymani.co/beyond-scikit-learn-is-it-time-to-retire-k-means-and-use-this-method-instead-b8eb9ca9079a\n",
    "# kmedo = KMedoids(n_clusters = 9, random_state=1)\n",
    "# kmedo.fit(mndata.train_images, mndata.train_labels)\n",
    "# # Doing predictions on the test set\n",
    "# y_hat = kmedo.predict(mndata.test_images)\n",
    "# acc = accuracy_score(mndata.test_labels, y_hat)\n",
    "# print(acc)"
   ],
   "metadata": {
    "collapsed": false,
    "pycharm": {
     "name": "#%%\n"
    }
   }
  },
  {
   "cell_type": "code",
   "execution_count": null,
   "outputs": [],
   "source": [
    "from pyclustering.utils import distance_metric, type_metric\n",
    "from pyclustering.cluster import cluster_visualizer\n",
    "\n",
    "initial_medoids = [0, 1, 2, 3, 4, 5, 6, 7, 8, 9]\n",
    "# create Minkowski distance metric with degree equals to '2'\n",
    "metric = distance_metric(type_metric.MINKOWSKI, degree=2)\n",
    "# create K-Medoids algorithm with specific distance metric\n",
    "medo = kmedoids(train_X[0:1], initial_medoids, metric=metric)\n",
    "\n",
    "# https://pyclustering.github.io/docs/0.9.0/html/d0/dd3/classpyclustering_1_1cluster_1_1kmedoids_1_1kmedoids.html\n",
    "\n",
    "# Run cluster analysis and obtain results.\n",
    "medo.process()\n",
    "clusters_medo = medo.get_clusters()\n",
    "# Show allocated clusters.\n",
    "print(clusters_medo)\n",
    "# Display clusters.\n",
    "visualizer = cluster_visualizer()\n",
    "visualizer.append_clusters(clusters_medo, sample)\n",
    "visualizer.show()"
   ],
   "metadata": {
    "collapsed": false,
    "pycharm": {
     "name": "#%%\n",
     "is_executing": true
    }
   }
  },
  {
   "cell_type": "markdown",
   "source": [
    "Ici nous ferons la partition binaire avec la distance euclidienne pour MNIST"
   ],
   "metadata": {
    "collapsed": false,
    "pycharm": {
     "name": "#%% md\n"
    }
   }
  },
  {
   "cell_type": "code",
   "execution_count": 42,
   "outputs": [],
   "source": [
    "# Prédictions en faisant la moyenne\n",
    "def agglomerative_clustering_predict(agglomerative_clustering, X):\n",
    "    average = list()\n",
    "    ith_clusters = list()\n",
    "    for i in range(agglomerative_clustering.n_clusters):\n",
    "        # On fouille dans les train_X pour tous les labels i\n",
    "        for j in range(len(agglomerative_clustering.labels_)):\n",
    "            if agglomerative_clustering.labels_[j]==i:\n",
    "                ith_clusters.append(X.iloc[j])\n",
    "        average.append(np.array(ith_clusters).mean(axis=1))\n",
    "    # np.stack makes this error: all input arrays must have the same shape\n",
    "    return np.argmin(np.stack(average), axis=0)"
   ],
   "metadata": {
    "collapsed": false,
    "pycharm": {
     "name": "#%%\n"
    }
   }
  },
  {
   "cell_type": "code",
   "execution_count": null,
   "outputs": [
    {
     "ename": "ValueError",
     "evalue": "all input arrays must have the same shape",
     "output_type": "error",
     "traceback": [
      "\u001B[1;31m---------------------------------------------------------------------------\u001B[0m",
      "\u001B[1;31mValueError\u001B[0m                                Traceback (most recent call last)",
      "Cell \u001B[1;32mIn [44], line 26\u001B[0m\n\u001B[0;32m     24\u001B[0m ac2 \u001B[38;5;241m=\u001B[39m AgglomerativeClustering(n_clusters \u001B[38;5;241m=\u001B[39m \u001B[38;5;241m10\u001B[39m, affinity\u001B[38;5;241m=\u001B[39m\u001B[38;5;124m'\u001B[39m\u001B[38;5;124meuclidean\u001B[39m\u001B[38;5;124m'\u001B[39m)\n\u001B[0;32m     25\u001B[0m ac2\u001B[38;5;241m.\u001B[39mfit(X_principal)\n\u001B[1;32m---> 26\u001B[0m predictions \u001B[38;5;241m=\u001B[39m \u001B[43magglomerative_clustering_predict\u001B[49m\u001B[43m(\u001B[49m\u001B[43mac2\u001B[49m\u001B[43m,\u001B[49m\u001B[43m \u001B[49m\u001B[43mX_principal\u001B[49m\u001B[43m)\u001B[49m\n\u001B[0;32m     27\u001B[0m \u001B[38;5;66;03m# Visualizing the clustering\u001B[39;00m\n\u001B[0;32m     28\u001B[0m plt\u001B[38;5;241m.\u001B[39mfigure(figsize \u001B[38;5;241m=\u001B[39m(\u001B[38;5;241m6\u001B[39m, \u001B[38;5;241m6\u001B[39m))\n",
      "Cell \u001B[1;32mIn [42], line 11\u001B[0m, in \u001B[0;36magglomerative_clustering_predict\u001B[1;34m(agglomerative_clustering, X)\u001B[0m\n\u001B[0;32m      9\u001B[0m             ith_clusters\u001B[38;5;241m.\u001B[39mappend(X\u001B[38;5;241m.\u001B[39miloc[j])\n\u001B[0;32m     10\u001B[0m     average\u001B[38;5;241m.\u001B[39mappend(np\u001B[38;5;241m.\u001B[39marray(ith_clusters)\u001B[38;5;241m.\u001B[39mmean(axis\u001B[38;5;241m=\u001B[39m\u001B[38;5;241m1\u001B[39m))\n\u001B[1;32m---> 11\u001B[0m \u001B[38;5;28;01mreturn\u001B[39;00m np\u001B[38;5;241m.\u001B[39margmin(\u001B[43mnp\u001B[49m\u001B[38;5;241;43m.\u001B[39;49m\u001B[43mstack\u001B[49m\u001B[43m(\u001B[49m\u001B[43maverage\u001B[49m\u001B[43m)\u001B[49m, axis\u001B[38;5;241m=\u001B[39m\u001B[38;5;241m0\u001B[39m)\n",
      "File \u001B[1;32m<__array_function__ internals>:180\u001B[0m, in \u001B[0;36mstack\u001B[1;34m(*args, **kwargs)\u001B[0m\n",
      "File \u001B[1;32mD:\\School Books\\Session 5\\IFT 3700\\IFT-3700_TPs\\Devoir 1\\Devoir1\\lib\\site-packages\\numpy\\core\\shape_base.py:426\u001B[0m, in \u001B[0;36mstack\u001B[1;34m(arrays, axis, out)\u001B[0m\n\u001B[0;32m    424\u001B[0m shapes \u001B[38;5;241m=\u001B[39m {arr\u001B[38;5;241m.\u001B[39mshape \u001B[38;5;28;01mfor\u001B[39;00m arr \u001B[38;5;129;01min\u001B[39;00m arrays}\n\u001B[0;32m    425\u001B[0m \u001B[38;5;28;01mif\u001B[39;00m \u001B[38;5;28mlen\u001B[39m(shapes) \u001B[38;5;241m!=\u001B[39m \u001B[38;5;241m1\u001B[39m:\n\u001B[1;32m--> 426\u001B[0m     \u001B[38;5;28;01mraise\u001B[39;00m \u001B[38;5;167;01mValueError\u001B[39;00m(\u001B[38;5;124m'\u001B[39m\u001B[38;5;124mall input arrays must have the same shape\u001B[39m\u001B[38;5;124m'\u001B[39m)\n\u001B[0;32m    428\u001B[0m result_ndim \u001B[38;5;241m=\u001B[39m arrays[\u001B[38;5;241m0\u001B[39m]\u001B[38;5;241m.\u001B[39mndim \u001B[38;5;241m+\u001B[39m \u001B[38;5;241m1\u001B[39m\n\u001B[0;32m    429\u001B[0m axis \u001B[38;5;241m=\u001B[39m normalize_axis_index(axis, result_ndim)\n",
      "\u001B[1;31mValueError\u001B[0m: all input arrays must have the same shape"
     ]
    }
   ],
   "source": [
    "from sklearn.decomposition import PCA\n",
    "import scipy.cluster.hierarchy as shc\n",
    "\n",
    "# https://scikit-learn.org/stable/modules/generated/sklearn.cluster.AgglomerativeClustering.html\n",
    "# https://www.projectpro.io/recipes/do-agglomerative-clustering-in-python\n",
    "# https://www.geeksforgeeks.org/implementing-agglomerative-clustering-using-sklearn/\n",
    "\n",
    "pca = PCA(n_components = 2)\n",
    "# Training data set\n",
    "X_principal = pca.fit_transform(X_normalized_train)\n",
    "X_principal = pd.DataFrame(X_principal)\n",
    "X_principal.columns = ['P1', 'P2']\n",
    "\n",
    "# Testing data set\n",
    "X_secondary = pca.fit_transform(X_normalized_test)\n",
    "X_secondary = pd.DataFrame(X_secondary)\n",
    "X_secondary.columns = ['P1', 'P2']\n",
    "\n",
    "\n",
    "plt.figure(figsize =(8, 8))\n",
    "plt.title('Visualising the data')\n",
    "Dendrogram = shc.dendrogram((shc.linkage(X_principal, method ='ward')))\n",
    "\n",
    "ac2 = AgglomerativeClustering(n_clusters = 10, affinity='euclidean')\n",
    "ac2.fit(X_principal)\n",
    "predictions = agglomerative_clustering_predict(ac2, X_principal)\n",
    "# Visualizing the clustering\n",
    "plt.figure(figsize =(6, 6))\n",
    "plt.title(\"10 clusters\")\n",
    "plt.scatter(X_principal['P1'], X_principal['P2'],\n",
    "           c = predictions, cmap ='rainbow')\n",
    "plt.show()\n",
    "\n",
    "ac2 = AgglomerativeClustering(n_clusters = 2, affinity='euclidean')\n",
    "\n",
    "# Visualizing the clustering\n",
    "plt.figure(figsize =(6, 6))\n",
    "plt.title(\"2 clusters\")\n",
    "plt.scatter(X_principal['P1'], X_principal['P2'],\n",
    "           c = predictions, cmap ='rainbow')\n",
    "plt.show()\n",
    "\n",
    "\n",
    "# # Creating the agglomerative model\n",
    "# agglo = AgglomerativeClustering(n_clusters=9, affinity='euclidean', linkage='average')\n",
    "# # Fitting the model with the standardized data\n",
    "# model = agglo.fit(X_std_train)\n",
    "# # Predictions\n",
    "# clusters = pd.DataFrame(model.fit_predict(X_std_test))\n",
    "# clusters_agglo = model.fit_predict(X_std_test)\n",
    "# acc = accuracy_score(y_true=test_y, y_pred=clusters_agglo)\n",
    "#\n",
    "# print(f\"Accuracy for agglomerative clustering: {acc}\")\n",
    "# # data[\"Cluster\"] = clusters"
   ],
   "metadata": {
    "collapsed": false,
    "pycharm": {
     "name": "#%%\n",
     "is_executing": true
    }
   }
  },
  {
   "cell_type": "markdown",
   "source": [
    "Ici nous ferons le PCoA avec la distance euclidienne pour MNIST"
   ],
   "metadata": {
    "collapsed": false,
    "pycharm": {
     "name": "#%% md\n"
    }
   }
  },
  {
   "cell_type": "code",
   "execution_count": null,
   "outputs": [],
   "source": [
    "pcoa = KernelPCA(n_components=1, kernel='precomputed')\n",
    "pcoa_circle = pcoa.fit_transform(-.5*train_X**2) #-.5*D**2 est crucial!!!\n",
    "pcoa_infinity = pcoa.transform(-.5*infinity_circle_cosine_dissimilarity**2) #-.5*D**2 est crucial!!!\n",
    "\n",
    "fig = plt.figure(figsize=(12, 8))\n",
    "ax = fig.add_subplot(211)\n",
    "ax.set_title('Cosine PCoA sur circle')\n",
    "ax.scatter(pcoa_circle, np.zeros_like(pcoa_circle), c=theta);\n",
    "\n",
    "ax = fig.add_subplot(212)\n",
    "ax.set_title('Cosine PCoA sur infinity')\n",
    "ax.scatter(pcoa_infinity, np.zeros_like(pcoa_infinity), c=theta2);"
   ],
   "metadata": {
    "collapsed": false,
    "pycharm": {
     "name": "#%%\n"
    }
   }
  },
  {
   "cell_type": "markdown",
   "source": [
    "Ici nous ferons le KNN avec la distance euclidienne pour MNIST"
   ],
   "metadata": {
    "collapsed": false,
    "pycharm": {
     "name": "#%% md\n"
    }
   }
  },
  {
   "cell_type": "code",
   "execution_count": 21,
   "outputs": [
    {
     "name": "stdout",
     "output_type": "stream",
     "text": [
      "Accuracy for KNN algorithm: 0.9688\n"
     ]
    }
   ],
   "source": [
    "knn = KNeighborsClassifier(n_neighbors=5, metric='minkowski', p=2, algorithm='auto')\n",
    "knn.fit(train_X, train_y)\n",
    "\n",
    "predictions = knn.predict(test_X)\n",
    "\n",
    "acc = accuracy_score(y_true=test_y, y_pred=predictions)\n",
    "print(f\"Accuracy for KNN algorithm: {acc}\")\n",
    "# fig = plt.figure(figsize=(12, 6))\n",
    "# circle_ax = fig.add_subplot(121)\n",
    "# infinity_ax = fig.add_subplot(122)\n",
    "# circle_ax.set_title('Cosine 2-plus proches voisins sur circle')\n",
    "# infinity_ax.set_title('Cosine 2-plus proches voisins sur infinity')\n",
    "#\n",
    "# for i in range(4):\n",
    "#     circle_cluster = circle[np.where(knn_circle == i)[0]]\n",
    "#     circle_ax.scatter(circle_cluster[:, 0], circle_cluster[:, 1])\n",
    "#\n",
    "#     infinity_cluster = infinity[np.where(knn_infinity == i)[0]]\n",
    "#     infinity_ax.scatter(infinity_cluster[:, 0], infinity_cluster[:, 1])"
   ],
   "metadata": {
    "collapsed": false,
    "pycharm": {
     "name": "#%%\n"
    }
   }
  }
 ],
 "metadata": {
  "kernelspec": {
   "display_name": "Python 3",
   "language": "python",
   "name": "python3"
  },
  "language_info": {
   "codemirror_mode": {
    "name": "ipython",
    "version": 2
   },
   "file_extension": ".py",
   "mimetype": "text/x-python",
   "name": "python",
   "nbconvert_exporter": "python",
   "pygments_lexer": "ipython2",
   "version": "2.7.6"
  }
 },
 "nbformat": 4,
 "nbformat_minor": 0
}