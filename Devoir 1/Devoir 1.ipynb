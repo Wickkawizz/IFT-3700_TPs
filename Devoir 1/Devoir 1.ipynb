{
 "cells": [
  {
   "cell_type": "raw",
   "source": [
    "Ceci sont les importations que nous aurons besoin pour le projet. Nous utiliserons SKlearn tel que indiqué par le professeur."
   ],
   "metadata": {
    "collapsed": false,
    "pycharm": {
     "name": "#%% raw\n"
    }
   }
  },
  {
   "cell_type": "code",
   "execution_count": 6,
   "outputs": [],
   "source": [
    "import matplotlib.pyplot as plt\n",
    "from sklearn.metrics import accuracy_score\n",
    "#classification\n",
    "from sklearn.neighbors import KNeighborsClassifier #k-plus proches voisins\n",
    "from sklearn_extra.cluster import KMedoids\n",
    "import numpy as np\n",
    "import pandas as pd\n",
    "from time import time\n",
    "\n",
    "#Partitionnement\n",
    "from sklearn.cluster import AgglomerativeClustering #Regroupement hiérarchique (Partitionnement binaire)\n",
    "#from pyclustering.cluster.kmedoids import kmedoids\n",
    "import kmedoids\n",
    "\n",
    "#réduction de dimensionnalité\n",
    "from sklearn.decomposition import KernelPCA #ce n'est pas PCoA mais on peut l'utiliser pour que le résultat soit le même\n",
    "from sklearn.manifold import Isomap"
   ],
   "metadata": {
    "collapsed": false,
    "pycharm": {
     "name": "#%%\n"
    }
   }
  },
  {
   "cell_type": "markdown",
   "source": [
    "Pour commencer le projet, nous allons créer une baseline pour MNIST en faisant la distance euclidienne pour tous les algorithmes que le projet nous indique. Donc nous le ferons pour:\n",
    "● k-medoïde\n",
    "● Partition binaire (Regroupement hiérarchique)\n",
    "● PCoA (c'est un cas particulier de MDS)\n",
    "● Isomap\n",
    "● KNN (k-plus proches voisins)\n",
    "\n",
    "Nous allons aussi importer MNIST et ADULT"
   ],
   "metadata": {
    "collapsed": false,
    "pycharm": {
     "name": "#%% md\n"
    }
   }
  },
  {
   "cell_type": "code",
   "execution_count": null,
   "outputs": [
    {
     "name": "stdout",
     "output_type": "stream",
     "text": [
      "X_train: (60000, 784)\n",
      "Y_train: (60000,)\n",
      "X_test:  (10000, 784)\n",
      "Y_test:  (10000,)\n"
     ]
    }
   ],
   "source": [
    "from sklearn.preprocessing import StandardScaler, normalize\n",
    "from sklearn.metrics import euclidean_distances\n",
    "from sklearn.decomposition import PCA\n",
    "# https://notebook.community/francesco-mannella/neunet-basics/course/mnist\n",
    "# import the mnist class\n",
    "from mnist import MNIST\n",
    "\n",
    "# init with the 'data' dir\n",
    "mndata = MNIST('.\\data')\n",
    "\n",
    "# Load data\n",
    "(train_X, train_y) = mndata.load_training()\n",
    "data_train = pd.DataFrame(train_X)\n",
    "(test_X, test_y) = mndata.load_testing()\n",
    "data_test = pd.DataFrame(test_X)\n",
    "\n",
    "print('X_train: ' + str(np.shape(train_X)))\n",
    "print('Y_train: ' + str(np.shape(train_y)))\n",
    "print('X_test:  '  + str(np.shape(test_X)))\n",
    "print('Y_test:  '  + str(np.shape(test_y)))\n",
    "\n",
    "# Standardizing the data (preprocessing)\n",
    "scaler = StandardScaler()\n",
    "X_std_train = scaler.fit_transform(train_X)\n",
    "X_std_test = scaler.fit_transform(test_X)\n",
    "\n",
    "# Reduction of dimensionality\n",
    "# This step is necessary for some algorithms i.e. k-medoids is just like kmeans and the algorithm doesn't scale very well to high dimensions\n",
    "pca = PCA(n_components = 2)\n",
    "# Training data set\n",
    "X_principal = pca.fit_transform(X_std_train)\n",
    "\n",
    "# Distance matrix with euclidean distance with reduced data\n",
    "diss_PCA = euclidean_distances(X_principal)\n",
    "# Distance matrix with euclidean distance with standardized data\n",
    "diss_STD_train = euclidean_distances(X_std_train)\n",
    "diss_STD_test = euclidean_distances(X_std_test)\n",
    "\n",
    "# Normalizing the data so that the data approximately\n",
    "# follows a Gaussian distribution\n",
    "X_normalized_train = normalize(X_std_train)\n",
    "\n",
    "# Converting the numpy array into a pandas DataFrame\n",
    "X_normalized_train = pd.DataFrame(X_normalized_train)\n",
    "\n",
    "\n",
    "\n",
    "\n",
    "# Normalizing the data so that the data approximately\n",
    "# follows a Gaussian distribution\n",
    "X_normalized_test = normalize(X_std_test)\n",
    "\n",
    "# Converting the numpy array into a pandas DataFrame\n",
    "X_normalized_test = pd.DataFrame(X_normalized_test)\n",
    "\n",
    "# The number of pixels per side of all images\n",
    "img_side = 28\n",
    "\n",
    "# Each input is a raw vector.\n",
    "# The number of units of the network\n",
    "# corresponds to the number of input elements\n",
    "n_mnist_pixels = img_side*img_side"
   ],
   "metadata": {
    "collapsed": false,
    "pycharm": {
     "name": "#%%\n",
     "is_executing": true
    }
   }
  },
  {
   "cell_type": "markdown",
   "source": [
    "Ici on vérifie que le dataset à bien téléchargé."
   ],
   "metadata": {
    "collapsed": false,
    "pycharm": {
     "name": "#%% md\n"
    }
   }
  },
  {
   "cell_type": "code",
   "execution_count": 4,
   "outputs": [
    {
     "data": {
      "text/plain": "<Figure size 1000x100 with 10 Axes>",
      "image/png": "[encoded data removed]"
     },
     "metadata": {},
     "output_type": "display_data"
    }
   ],
   "source": [
    "%matplotlib inline\n",
    "from pylab import *\n",
    "\n",
    "# Define the number of samples to take\n",
    "num_samples = 10\n",
    "\n",
    "# create a figure where we will store all samples\n",
    "figure(figsize=(10,1))\n",
    "\n",
    "# Iterate over samples indices\n",
    "for sample in range(num_samples) :\n",
    "\n",
    "    # The image corresponding to the 'sample' index\n",
    "    img = train_X[sample]\n",
    "\n",
    "    # The label of the image\n",
    "    label = train_y[sample]\n",
    "\n",
    "    # The image is stored as a rolled vector,\n",
    "    # we have to roll it back in a matrix\n",
    "    aimg = array(img).reshape(img_side, img_side)\n",
    "\n",
    "    # Open a subplot for each sample\n",
    "    subplot(1, num_samples, sample+1)\n",
    "\n",
    "    # The corresponding digit is the title of the plot\n",
    "    title(label)\n",
    "\n",
    "    # We use imshow to plot the matrix of pixels\n",
    "    imshow(aimg, interpolation = 'none',\n",
    "        aspect = 'auto', cmap = cm.binary)\n",
    "    axis(\"off\")\n",
    "\n",
    "show()"
   ],
   "metadata": {
    "collapsed": false,
    "pycharm": {
     "name": "#%%\n"
    }
   }
  },
  {
   "cell_type": "markdown",
   "source": [
    "Ici nous ferons l'algorithme de k-medoïde avec la distance euclidienne pour MNIST"
   ],
   "metadata": {
    "collapsed": false,
    "pycharm": {
     "name": "#%% md\n"
    }
   }
  },
  {
   "cell_type": "code",
   "execution_count": null,
   "outputs": [],
   "source": [
    "# # https://medium.com/@ali.soleymani.co/beyond-scikit-learn-is-it-time-to-retire-k-means-and-use-this-method-instead-b8eb9ca9079a\n",
    "# kmedo = KMedoids(n_clusters = 9, random_state=1)\n",
    "# kmedo.fit(mndata.train_images, mndata.train_labels)\n",
    "# # Doing predictions on the test set\n",
    "# y_hat = kmedo.predict(mndata.test_images)\n",
    "# acc = accuracy_score(mndata.test_labels, y_hat)\n",
    "# print(acc)"
   ],
   "metadata": {
    "collapsed": false,
    "pycharm": {
     "name": "#%%\n"
    }
   }
  },
  {
   "cell_type": "code",
   "execution_count": 5,
   "outputs": [],
   "source": [
    "from sklearn.pipeline import make_pipeline\n",
    "from sklearn import metrics\n",
    "from time import time\n",
    "\n",
    "\n",
    "def bench_k_medoids(kmedoids, name, data, labels):\n",
    "    \"\"\"Benchmark to evaluate the KMeans initialization methods.\n",
    "\n",
    "    Parameters\n",
    "    ----------\n",
    "    kmeans : KMeans instance\n",
    "        A :class:`~sklearn.cluster.KMeans` instance with the initialization\n",
    "        already set.\n",
    "    name : str\n",
    "        Name given to the strategy. It will be used to show the results in a\n",
    "        table.\n",
    "    data : ndarray of shape (n_samples, n_features)\n",
    "        The data to cluster.\n",
    "    labels : ndarray of shape (n_samples,)\n",
    "        The labels used to compute the clustering metrics which requires some\n",
    "        supervision.\n",
    "    \"\"\"\n",
    "    t0 = time()\n",
    "    estimator = make_pipeline(StandardScaler(), kmedoids).fit(data)\n",
    "    fit_time = time() - t0\n",
    "    results = [name, fit_time, estimator[-1].inertia_]\n",
    "\n",
    "    # Define the metrics which require only the true labels and estimator\n",
    "    # labels\n",
    "    clustering_metrics = [\n",
    "        metrics.homogeneity_score,\n",
    "        metrics.completeness_score,\n",
    "        metrics.v_measure_score,\n",
    "        metrics.adjusted_rand_score,\n",
    "        metrics.adjusted_mutual_info_score,\n",
    "    ]\n",
    "    results += [m(labels, estimator[-1].labels_) for m in clustering_metrics]\n",
    "\n",
    "    # The silhouette score requires the full dataset\n",
    "    results += [\n",
    "        metrics.silhouette_score(\n",
    "            data,\n",
    "            estimator[-1].labels_,\n",
    "            metric=\"euclidean\",\n",
    "            sample_size=300,\n",
    "        )\n",
    "    ]\n",
    "\n",
    "    # Show the results\n",
    "    formatter_result = (\n",
    "        \"{:9s}\\t{:.3f}s\\t{:.0f}\\t{:.3f}\\t{:.3f}\\t{:.3f}\\t{:.3f}\\t{:.3f}\\t{:.3f}\"\n",
    "    )\n",
    "    print(formatter_result.format(*results))"
   ],
   "metadata": {
    "collapsed": false,
    "pycharm": {
     "name": "#%%\n"
    }
   }
  },
  {
   "cell_type": "code",
   "execution_count": 7,
   "outputs": [
    {
     "name": "stdout",
     "output_type": "stream",
     "text": [
      "FasterPAM took: 620091.27 ms\n",
      "Loss with FasterPAM: 157720.71169210118\n",
      "__________________________________________________________________________________\n",
      "\ttime\thomo\tcompl\tv_meas\tARI\tAMI\tsilhouette\n",
      "<built-in function time> 0.2175392255694645 0.22344790705650058 0.22045398180548528 0.1427258921711257 0.22022209305399262 -0.06700980051294886\n",
      "__________________________________________________________________________________\n",
      "Loss with PAM: 156763.14600763292\n",
      "PAM took: 25876414.70 ms\n",
      "__________________________________________________________________________________\n",
      "\ttime\thomo\tcompl\tv_meas\tARI\tAMI\tsilhouette\n",
      "<built-in function time> 0.2130057716038777 0.21788717198666302 0.21541882215508537 0.14129003332350049 0.21518591439614446 -0.06700980051294887\n",
      "__________________________________________________________________________________\n"
     ]
    }
   ],
   "source": [
    "# https://scikit-learn.org/stable/auto_examples/cluster/plot_kmeans_digits.html?fbclid=IwAR2CjekTcfhnp19Txryk2u5c2w2Zoa9O1kEBR710Bcg8kPNuCXQWj0-_zm8\n",
    "from sklearn.metrics import euclidean_distances\n",
    "from sklearn.decomposition import PCA\n",
    "from sklearn import metrics\n",
    "\n",
    "# Reduction of dimensionality\n",
    "# This step is necessary, because k-medoids is just like kmeans and the algorithm doesn't scale very well to high dimensions\n",
    "pca = PCA(n_components = 2)\n",
    "# Training data set\n",
    "X_principal = pca.fit_transform(X_std_train)\n",
    "# Distance matrix with euclidean distance\n",
    "diss = euclidean_distances(X_principal)\n",
    "\n",
    "\n",
    "start = time()\n",
    "fp = kmedoids.fasterpam(diss, medoids=10, max_iter=100)\n",
    "\n",
    "print(\"FasterPAM took: %.2f ms\" % ((time() - start)*1000))\n",
    "print(\"Loss with FasterPAM:\", fp.loss)\n",
    "homo = metrics.homogeneity_score(labels_true=train_y, labels_pred=fp.labels)\n",
    "compl = metrics.completeness_score(labels_true=train_y, labels_pred=fp.labels)\n",
    "v_meas = metrics.v_measure_score(labels_true=train_y, labels_pred=fp.labels)\n",
    "ARI = metrics.adjusted_rand_score(labels_true=train_y, labels_pred=fp.labels)\n",
    "AMI = metrics.adjusted_mutual_info_score(labels_true=train_y, labels_pred=fp.labels)\n",
    "silhouette = metrics.silhouette_score(X_principal,train_y, metric='euclidean', sample_size=np.shape(X_principal)[0])\n",
    "\n",
    "print(82 * \"_\")\n",
    "print(\"\\ttime\\thomo\\tcompl\\tv_meas\\tARI\\tAMI\\tsilhouette\")\n",
    "print(f\"{(time() - start)*1000} ms {homo} {compl} {v_meas} {ARI} {AMI} {silhouette}\")\n",
    "print(82 * \"_\")\n",
    "\n",
    "# Commented this section because it takes way too much time, for very similar results, partly due to the deterministic nature of PCA\n",
    "# start = time()\n",
    "# pam = kmedoids.pam(diss, medoids=10, max_iter=100)\n",
    "# homo = metrics.homogeneity_score(labels_true=train_y, labels_pred=pam.labels)\n",
    "# compl = metrics.completeness_score(labels_true=train_y, labels_pred=pam.labels)\n",
    "# v_meas = metrics.v_measure_score(labels_true=train_y, labels_pred=pam.labels)\n",
    "# ARI = metrics.adjusted_rand_score(labels_true=train_y, labels_pred=pam.labels)\n",
    "# AMI = metrics.adjusted_mutual_info_score(labels_true=train_y, labels_pred=pam.labels)\n",
    "# silhouette = metrics.silhouette_score(X_principal,train_y, metric='euclidean', sample_size=np.shape(X_principal)[0])\n",
    "# print(\"Loss with PAM:\", pam.loss)\n",
    "# print(\"PAM took: %.2f ms\" % ((time() - start)*1000))\n",
    "# print(82 * \"_\")\n",
    "# print(\"\\ttime\\thomo\\tcompl\\tv_meas\\tARI\\tAMI\\tsilhouette\")\n",
    "# print(f\"{(time() - start)*1000} ms {homo} {compl} {v_meas} {ARI} {AMI} {silhouette}\")\n",
    "# print(82 * \"_\")\n",
    "\n",
    "\n"
   ],
   "metadata": {
    "collapsed": false,
    "pycharm": {
     "name": "#%%\n"
    }
   }
  },
  {
   "cell_type": "markdown",
   "source": [
    "Ici nous ferons la partition binaire avec la distance euclidienne pour MNIST"
   ],
   "metadata": {
    "collapsed": false,
    "pycharm": {
     "name": "#%% md\n"
    }
   }
  },
  {
   "cell_type": "code",
   "execution_count": 4,
   "outputs": [],
   "source": [
    "# Prédictions en faisant la moyenne\n",
    "def agglomerative_clustering_predict(agglomerative_clustering, X):\n",
    "    average = list()\n",
    "    ith_clusters = list()\n",
    "    for i in range(agglomerative_clustering.n_clusters):\n",
    "        # On fouille dans les train_X pour tous les labels i\n",
    "        for j in range(len(agglomerative_clustering.labels_)):\n",
    "            if agglomerative_clustering.labels_[j]==i:\n",
    "                ith_clusters.append(X.iloc[j])\n",
    "        average.append(np.array(ith_clusters).mean(axis=1))\n",
    "    # np.stack makes this error: all input arrays must have the same shape\n",
    "    return np.argmin(np.stack(average), axis=0)"
   ],
   "metadata": {
    "collapsed": false,
    "pycharm": {
     "name": "#%%\n"
    }
   }
  },
  {
   "cell_type": "code",
   "execution_count": 4,
   "outputs": [
    {
     "name": "stdout",
     "output_type": "stream",
     "text": [
      "V-measure score for agglomerative clustering with 10 clusters: 0.5844426454187285\n"
     ]
    }
   ],
   "source": [
    "from sklearn.decomposition import PCA\n",
    "import scipy.cluster.hierarchy as shc\n",
    "from sklearn.metrics.cluster import v_measure_score\n",
    "\n",
    "# https://scikit-learn.org/stable/modules/generated/sklearn.cluster.AgglomerativeClustering.html\n",
    "# https://www.projectpro.io/recipes/do-agglomerative-clustering-in-python\n",
    "# https://www.geeksforgeeks.org/implementing-agglomerative-clustering-using-sklearn/\n",
    "\n",
    "# pca = PCA(n_components = 2)\n",
    "# # Training data set\n",
    "# X_principal = pca.fit_transform(X_std_train)\n",
    "# X_principal = pd.DataFrame(X_principal)\n",
    "# print(X_principal)\n",
    "#X_principal.columns = ['P1', 'P2']\n",
    "\n",
    "# # Testing data set\n",
    "# X_secondary = pca.fit_transform(X_normalized_test)\n",
    "# X_secondary = pd.DataFrame(X_secondary)\n",
    "# X_secondary.columns = ['P1', 'P2']\n",
    "\n",
    "# Dendogram requires normalized data, which is bad for mnist\n",
    "# plt.figure(figsize =(8, 8))\n",
    "# plt.title('Visualising the data')\n",
    "# Dendrogram = shc.dendrogram((shc.linkage(X_principal, method ='ward')))\n",
    "\n",
    "ac10 = AgglomerativeClustering(n_clusters = 10, affinity='euclidean')\n",
    "labels = pd.DataFrame(ac10.fit_predict(X_std_train))\n",
    "#acc = accuracy_score(y_true=train_y, y_pred=labels.iloc[:, 0])\n",
    "vscore = v_measure_score(labels_true=train_y, labels_pred=labels.iloc[:, 0])\n",
    "\n",
    "print(f\"V-measure score for agglomerative clustering with 10 clusters: {vscore}\")\n",
    "# V-measure score for agglomerative clustering with 10 clusters: 0.5844426454187285\n",
    "\n",
    "\n",
    "\n",
    "\n",
    "# predictions = agglomerative_clustering_predict(ac2, X_principal)\n",
    "# # Visualizing the clustering\n",
    "# plt.figure(figsize =(6, 6))\n",
    "# plt.title(\"10 clusters\")\n",
    "# plt.scatter(X_principal['P1'], X_principal['P2'],\n",
    "#            c = predictions, cmap ='rainbow')\n",
    "# plt.show()\n",
    "\n",
    "# ac2 = AgglomerativeClustering(n_clusters = 2, affinity='euclidean')\n",
    "# labels = pd.DataFrame(ac10.fit_predict(X_std_train))\n",
    "# #acc = accuracy_score(y_true=train_y, y_pred=labels.iloc[:, 0])\n",
    "# vscore = v_measure_score(labels_true=train_y, labels_pred=labels.iloc[:, 0])\n",
    "# print(f\"V-measure score for agglomerative clustering with 2 clusters: {vscore}\")\n",
    "\n",
    "# # Visualizing the clustering\n",
    "# plt.figure(figsize =(6, 6))\n",
    "# plt.title(\"2 clusters\")\n",
    "# plt.scatter(X_principal['P1'], X_principal['P2'],\n",
    "#            c = predictions, cmap ='rainbow')\n",
    "# plt.show()\n",
    "\n",
    "\n",
    "# # Creating the agglomerative model\n",
    "# agglo = AgglomerativeClustering(n_clusters=9, affinity='euclidean', linkage='average')\n",
    "# # Fitting the model with the standardized data\n",
    "# model = agglo.fit(X_std_train)\n",
    "# # Predictions\n",
    "# clusters = pd.DataFrame(model.fit_predict(X_std_test))\n",
    "# clusters_agglo = model.fit_predict(X_std_test)\n",
    "# acc = accuracy_score(y_true=test_y, y_pred=clusters_agglo)\n",
    "#\n",
    "# print(f\"Accuracy for agglomerative clustering: {acc}\")\n",
    "# # data[\"Cluster\"] = clusters"
   ],
   "metadata": {
    "collapsed": false,
    "pycharm": {
     "name": "#%%\n"
    }
   }
  },
  {
   "cell_type": "markdown",
   "source": [
    "Ici nous ferons le PCoA avec la distance euclidienne pour MNIST"
   ],
   "metadata": {
    "collapsed": false,
    "pycharm": {
     "name": "#%% md\n"
    }
   }
  },
  {
   "cell_type": "code",
   "execution_count": null,
   "outputs": [],
   "source": [
    "pcoa = KernelPCA(n_components=1, kernel='precomputed')\n",
    "pcoa_euclidean_train = pcoa.fit_transform(-.5 * diss_STD_train ** 2) #-.5*D**2 est crucial!!!\n",
    "pcoa_euclidean_test = pcoa.transform(-.5 * diss_STD_test ** 2) #-.5*D**2 est crucial!!!\n",
    "\n",
    "\n",
    "fig = plt.figure(figsize=(12, 8))\n",
    "ax = fig.add_subplot(211)\n",
    "ax.set_title('Cosine PCoA sur train')\n",
    "ax.scatter(pcoa_euclidean_train, np.zeros_like(pcoa_euclidean_train))\n",
    "\n",
    "ax = fig.add_subplot(212)\n",
    "ax.set_title('Cosine PCoA sur test')\n",
    "ax.scatter(pcoa_euclidean_test, np.zeros_like(pcoa_euclidean_test))"
   ],
   "metadata": {
    "collapsed": false,
    "pycharm": {
     "name": "#%%\n",
     "is_executing": true
    }
   }
  },
  {
   "cell_type": "markdown",
   "source": [
    "Ici nous ferons le KNN avec la distance euclidienne pour MNIST"
   ],
   "metadata": {
    "collapsed": false,
    "pycharm": {
     "name": "#%% md\n"
    }
   }
  },
  {
   "cell_type": "code",
   "execution_count": 21,
   "outputs": [
    {
     "name": "stdout",
     "output_type": "stream",
     "text": [
      "Accuracy for KNN algorithm: 0.9688\n"
     ]
    }
   ],
   "source": [
    "knn = KNeighborsClassifier(n_neighbors=5, metric='minkowski', p=2, algorithm='auto')\n",
    "knn.fit(train_X, train_y)\n",
    "\n",
    "predictions = knn.predict(test_X)\n",
    "\n",
    "acc = accuracy_score(y_true=test_y, y_pred=predictions)\n",
    "print(f\"Accuracy for KNN algorithm: {acc}\")\n",
    "# fig = plt.figure(figsize=(12, 6))\n",
    "# circle_ax = fig.add_subplot(121)\n",
    "# infinity_ax = fig.add_subplot(122)\n",
    "# circle_ax.set_title('Cosine 2-plus proches voisins sur circle')\n",
    "# infinity_ax.set_title('Cosine 2-plus proches voisins sur infinity')\n",
    "#\n",
    "# for i in range(4):\n",
    "#     circle_cluster = circle[np.where(knn_circle == i)[0]]\n",
    "#     circle_ax.scatter(circle_cluster[:, 0], circle_cluster[:, 1])\n",
    "#\n",
    "#     infinity_cluster = infinity[np.where(knn_infinity == i)[0]]\n",
    "#     infinity_ax.scatter(infinity_cluster[:, 0], infinity_cluster[:, 1])"
   ],
   "metadata": {
    "collapsed": false,
    "pycharm": {
     "name": "#%%\n"
    }
   }
  },
  {
   "cell_type": "markdown",
   "source": [
    "Ici nous ferons l'Isomap avec la distance euclidienne pour MNIST"
   ],
   "metadata": {
    "collapsed": false,
    "pycharm": {
     "name": "#%% md\n"
    }
   }
  },
  {
   "cell_type": "code",
   "execution_count": 7,
   "outputs": [
    {
     "name": "stdout",
     "output_type": "stream",
     "text": [
      "Isomap took: 6431123.26 ms\n"
     ]
    },
    {
     "data": {
      "text/plain": "<matplotlib.collections.PathCollection at 0x202eb5c5900>"
     },
     "execution_count": 7,
     "metadata": {},
     "output_type": "execute_result"
    },
    {
     "data": {
      "text/plain": "<Figure size 2400x2400 with 1 Axes>",
      "image/png": "[encoded data removed]"
     },
     "metadata": {},
     "output_type": "display_data"
    }
   ],
   "source": [
    "isomap = Isomap(n_components=2, n_neighbors=5, metric='minkowski', p=2)\n",
    "\n",
    "start = time()\n",
    "X_transformed_isomap = isomap.fit_transform(X_std_train)\n",
    "\n",
    "print(\"Isomap took: %.2f ms\" % ((time() - start)*1000))\n",
    "\n",
    "fig = plt.figure(figsize=(24, 24))\n",
    "ax = fig.add_subplot(211)\n",
    "ax.set_title('Isomap euclidien sur MNIST')\n",
    "ax.scatter(X_transformed_isomap, np.zeros_like(X_transformed_isomap))\n",
    "# Isomap_5n took: 6431123.26 ms\n",
    "# UserWarning: The number of connected components of the neighbors graph is 37 > 1. Completing the graph to fit Isomap might be slow. Increase the number of neighbors to avoid this issue.\n",
    "# self._fit_transform(X)"
   ],
   "metadata": {
    "collapsed": false,
    "pycharm": {
     "name": "#%%\n"
    }
   }
  }
 ],
 "metadata": {
  "kernelspec": {
   "display_name": "Python 3",
   "language": "python",
   "name": "python3"
  },
  "language_info": {
   "codemirror_mode": {
    "name": "ipython",
    "version": 2
   },
   "file_extension": ".py",
   "mimetype": "text/x-python",
   "name": "python",
   "nbconvert_exporter": "python",
   "pygments_lexer": "ipython2",
   "version": "2.7.6"
  }
 },
 "nbformat": 4,
 "nbformat_minor": 0
}